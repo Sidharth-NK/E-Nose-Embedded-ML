{
 "cells": [
  {
   "cell_type": "code",
   "execution_count": 1,
   "id": "110abc6b",
   "metadata": {
    "_cell_guid": "b1076dfc-b9ad-4769-8c92-a6c4dae69d19",
    "_uuid": "8f2839f25d086af736a60e9eeb907d3b93b6e0e5",
    "execution": {
     "iopub.execute_input": "2025-05-11T17:32:13.784643Z",
     "iopub.status.busy": "2025-05-11T17:32:13.784352Z",
     "iopub.status.idle": "2025-05-11T17:32:17.148682Z",
     "shell.execute_reply": "2025-05-11T17:32:17.147735Z"
    },
    "papermill": {
     "duration": 3.370706,
     "end_time": "2025-05-11T17:32:17.150422",
     "exception": false,
     "start_time": "2025-05-11T17:32:13.779716",
     "status": "completed"
    },
    "tags": []
   },
   "outputs": [],
   "source": [
    "import pandas as pd\n",
    "import numpy as np\n",
    "import os\n",
    "import matplotlib.pyplot as plt\n",
    "from sklearn.preprocessing import LabelEncoder, StandardScaler\n",
    "from sklearn.model_selection import train_test_split\n",
    "from sklearn.neighbors import KNeighborsClassifier\n",
    "from sklearn.model_selection import cross_val_score\n",
    "from sklearn.metrics import accuracy_score, classification_report"
   ]
  },
  {
   "cell_type": "code",
   "execution_count": 2,
   "id": "06da5bd5",
   "metadata": {
    "execution": {
     "iopub.execute_input": "2025-05-11T17:32:17.158527Z",
     "iopub.status.busy": "2025-05-11T17:32:17.157666Z",
     "iopub.status.idle": "2025-05-11T17:32:17.162342Z",
     "shell.execute_reply": "2025-05-11T17:32:17.161729Z"
    },
    "papermill": {
     "duration": 0.009462,
     "end_time": "2025-05-11T17:32:17.163464",
     "exception": false,
     "start_time": "2025-05-11T17:32:17.154002",
     "status": "completed"
    },
    "tags": []
   },
   "outputs": [],
   "source": [
    "# listing all the csv files\n",
    "\n",
    "csv_files = [\n",
    "    'perfume_office.csv',\n",
    "    'perfume_pantry.csv',\n",
    "    'tea_office.csv',\n",
    "    'vinegar_office.csv',\n",
    "    'normal_air_pantry.csv',\n",
    "    'tea_pantry.csv',\n",
    "    'hot_coffee_office.csv',\n",
    "    'normal_air_office.csv',\n",
    "    'vinegar_pantry.csv'\n",
    "]\n",
    "\n",
    "\n",
    "# We assume the original files have a header row we need to skip\n",
    "column_names = [\n",
    "    'Timestamp', 'Humidity', 'Temperature', 'NO2',\n",
    "    'Ethanol', 'VOC', 'CO', 'Location', 'Label'\n",
    "]"
   ]
  },
  {
   "cell_type": "code",
   "execution_count": 3,
   "id": "06493e9e",
   "metadata": {
    "execution": {
     "iopub.execute_input": "2025-05-11T17:32:17.169995Z",
     "iopub.status.busy": "2025-05-11T17:32:17.169700Z",
     "iopub.status.idle": "2025-05-11T17:32:17.179809Z",
     "shell.execute_reply": "2025-05-11T17:32:17.178916Z"
    },
    "papermill": {
     "duration": 0.014563,
     "end_time": "2025-05-11T17:32:17.181010",
     "exception": false,
     "start_time": "2025-05-11T17:32:17.166447",
     "status": "completed"
    },
    "tags": []
   },
   "outputs": [
    {
     "name": "stdout",
     "output_type": "stream",
     "text": [
      "Using input directory: /kaggle/input/ai-nose-dataset-250\n",
      "Files in dataset folder: ['perfume_office.csv', 'perfume_pantry.csv', 'tea_office.csv', 'vinegar_office.csv', 'normal_air_pantry.csv', 'tea_pantry.csv', 'hot_coffee_office.csv', 'normal_air_office.csv', 'vinegar_pantry.csv']\n"
     ]
    }
   ],
   "source": [
    "\n",
    "# Automatically find the correct input path\n",
    "for dirname, _, filenames in os.walk('/kaggle/input'):\n",
    "    if 'perfume_office.csv' in filenames:\n",
    "        input_dir = dirname\n",
    "        break\n",
    "\n",
    "print(\"Using input directory:\", input_dir)\n",
    "print(\"Files in dataset folder:\", os.listdir(input_dir))"
   ]
  },
  {
   "cell_type": "code",
   "execution_count": 4,
   "id": "d1f57104",
   "metadata": {
    "execution": {
     "iopub.execute_input": "2025-05-11T17:32:17.188180Z",
     "iopub.status.busy": "2025-05-11T17:32:17.187475Z",
     "iopub.status.idle": "2025-05-11T17:32:17.284473Z",
     "shell.execute_reply": "2025-05-11T17:32:17.283454Z"
    },
    "papermill": {
     "duration": 0.10206,
     "end_time": "2025-05-11T17:32:17.286046",
     "exception": false,
     "start_time": "2025-05-11T17:32:17.183986",
     "status": "completed"
    },
    "tags": []
   },
   "outputs": [
    {
     "name": "stdout",
     "output_type": "stream",
     "text": [
      "--- Loading and Combining Data ---\n",
      "Loading /kaggle/input/ai-nose-dataset-250/perfume_office.csv...\n",
      "Loaded perfume_office.csv with 250 rows.\n",
      "Loading /kaggle/input/ai-nose-dataset-250/perfume_pantry.csv...\n",
      "Loaded perfume_pantry.csv with 242 rows.\n",
      "Loading /kaggle/input/ai-nose-dataset-250/tea_office.csv...\n",
      "Loaded tea_office.csv with 249 rows.\n",
      "Loading /kaggle/input/ai-nose-dataset-250/vinegar_office.csv...\n",
      "Loaded vinegar_office.csv with 249 rows.\n",
      "Loading /kaggle/input/ai-nose-dataset-250/normal_air_pantry.csv...\n",
      "Loaded normal_air_pantry.csv with 220 rows.\n",
      "Loading /kaggle/input/ai-nose-dataset-250/tea_pantry.csv...\n",
      "Loaded tea_pantry.csv with 221 rows.\n",
      "Loading /kaggle/input/ai-nose-dataset-250/hot_coffee_office.csv...\n",
      "Loaded hot_coffee_office.csv with 111 rows.\n",
      "Loading /kaggle/input/ai-nose-dataset-250/normal_air_office.csv...\n",
      "Loaded normal_air_office.csv with 148 rows.\n",
      "Loading /kaggle/input/ai-nose-dataset-250/vinegar_pantry.csv...\n",
      "Loaded vinegar_pantry.csv with 249 rows.\n",
      "\n",
      "All files combined successfully!\n",
      "Total number of samples: 1939\n",
      "\n",
      "Info on combined data:\n",
      "<class 'pandas.core.frame.DataFrame'>\n",
      "RangeIndex: 1939 entries, 0 to 1938\n",
      "Data columns (total 9 columns):\n",
      " #   Column       Non-Null Count  Dtype  \n",
      "---  ------       --------------  -----  \n",
      " 0   Timestamp    1939 non-null   object \n",
      " 1   Humidity     1939 non-null   float64\n",
      " 2   Temperature  1939 non-null   float64\n",
      " 3   NO2          1939 non-null   int64  \n",
      " 4   Ethanol      1939 non-null   int64  \n",
      " 5   VOC          1939 non-null   int64  \n",
      " 6   CO           1939 non-null   int64  \n",
      " 7   Location     1939 non-null   int64  \n",
      " 8   Label        1939 non-null   object \n",
      "dtypes: float64(2), int64(5), object(2)\n",
      "memory usage: 136.5+ KB\n",
      "\n",
      "First 5 rows of combined data:\n",
      "             Timestamp  Humidity  Temperature  NO2  Ethanol  VOC   CO  \\\n",
      "0  2025-03-28 17:10:51      52.7         25.2  440      705  459  103   \n",
      "1  2025-03-28 17:10:53      52.6         25.2  447      723  466  137   \n",
      "2  2025-03-28 17:10:56      52.9         25.2  466      757  503  314   \n",
      "3  2025-03-28 17:10:59      54.4         25.2  477      766  509  211   \n",
      "4  2025-03-28 17:11:01      55.4         25.2  471      761  503  164   \n",
      "\n",
      "   Location    Label  \n",
      "0         1  perfume  \n",
      "1         1  perfume  \n",
      "2         1  perfume  \n",
      "3         1  perfume  \n",
      "4         1  perfume  \n"
     ]
    }
   ],
   "source": [
    " \n",
    "# list to hold the individial Dataframes\n",
    "dataframes = []\n",
    "\n",
    "# Load and Combine Data \n",
    "print(\"--- Loading and Combining Data ---\")\n",
    "\n",
    "\n",
    "for file in csv_files:\n",
    "    file_path = os.path.join(input_dir, file)\n",
    "    print(f\"Loading {file_path}...\")\n",
    "    try:\n",
    "        # Read the CSV, skipping the header row and assigning our defined column names\n",
    "        df = pd.read_csv(file_path, skiprows=1, names=column_names)\n",
    "        dataframes.append(df)\n",
    "        print(f\"Loaded {file} with {len(df)} rows.\")\n",
    "    except FileNotFoundError:\n",
    "        print(f\"Error: File not found at {file_path}. Please ensure your dataset is added correctly.\")\n",
    "    except Exception as e:\n",
    "        print(f\"Error loading {file}: {e}\")\n",
    "\n",
    "# Concatenate all dataframes into a single one\n",
    "if dataframes:\n",
    "    combined_df = pd.concat(dataframes, ignore_index=True)\n",
    "    print(\"\\nAll files combined successfully!\")\n",
    "    print(f\"Total number of samples: {len(combined_df)}\")\n",
    "    print(\"\\nInfo on combined data:\")\n",
    "    combined_df.info() # Display data types and non-null counts\n",
    "    print(\"\\nFirst 5 rows of combined data:\")\n",
    "    print(combined_df.head())\n",
    "else:\n",
    "    print(\"\\nNo dataframes were loaded. Exiting.\")\n",
    "    # You would typically stop execution here if no data loaded\n",
    "    # exit() # Or sys.exit() if you import sys\n",
    "\n"
   ]
  },
  {
   "cell_type": "code",
   "execution_count": 5,
   "id": "5d1b0bb5",
   "metadata": {
    "execution": {
     "iopub.execute_input": "2025-05-11T17:32:17.293134Z",
     "iopub.status.busy": "2025-05-11T17:32:17.292471Z",
     "iopub.status.idle": "2025-05-11T17:32:17.302176Z",
     "shell.execute_reply": "2025-05-11T17:32:17.301328Z"
    },
    "papermill": {
     "duration": 0.014254,
     "end_time": "2025-05-11T17:32:17.303269",
     "exception": false,
     "start_time": "2025-05-11T17:32:17.289015",
     "status": "completed"
    },
    "tags": []
   },
   "outputs": [
    {
     "name": "stdout",
     "output_type": "stream",
     "text": [
      "\n",
      "--- Features and Labels Selected ---\n",
      "Shape of features (X): (1939, 6)\n",
      "Shape of labels (y): (1939,)\n",
      "\n",
      "First 5 rows of Features (X):\n",
      "   Humidity  Temperature  NO2  Ethanol  VOC   CO\n",
      "0      52.7         25.2  440      705  459  103\n",
      "1      52.6         25.2  447      723  466  137\n",
      "2      52.9         25.2  466      757  503  314\n",
      "3      54.4         25.2  477      766  509  211\n",
      "4      55.4         25.2  471      761  503  164\n",
      "\n",
      "First 5 rows of Labels (y):\n",
      "0    perfume\n",
      "1    perfume\n",
      "2    perfume\n",
      "3    perfume\n",
      "4    perfume\n",
      "Name: Label, dtype: object\n"
     ]
    }
   ],
   "source": [
    "# Select What We Need (Features and Label) \n",
    "# We drop Timestamp and Location for simplicity \n",
    "# Features (X) are the sensor readings\n",
    "X = combined_df[['Humidity', 'Temperature', 'NO2', 'Ethanol', 'VOC', 'CO']]\n",
    "\n",
    "# Label (y) is the target variable\n",
    "y = combined_df['Label']\n",
    "\n",
    "print(\"\\n--- Features and Labels Selected ---\")\n",
    "print(f\"Shape of features (X): {X.shape}\")\n",
    "print(f\"Shape of labels (y): {y.shape}\")\n",
    "print(\"\\nFirst 5 rows of Features (X):\")\n",
    "print(X.head())\n",
    "print(\"\\nFirst 5 rows of Labels (y):\")\n",
    "print(y.head())\n",
    "\n"
   ]
  },
  {
   "cell_type": "code",
   "execution_count": 6,
   "id": "cf608e1b",
   "metadata": {
    "execution": {
     "iopub.execute_input": "2025-05-11T17:32:17.311487Z",
     "iopub.status.busy": "2025-05-11T17:32:17.311246Z",
     "iopub.status.idle": "2025-05-11T17:32:17.316562Z",
     "shell.execute_reply": "2025-05-11T17:32:17.315728Z"
    },
    "papermill": {
     "duration": 0.011441,
     "end_time": "2025-05-11T17:32:17.317809",
     "exception": false,
     "start_time": "2025-05-11T17:32:17.306368",
     "status": "completed"
    },
    "tags": []
   },
   "outputs": [
    {
     "name": "stdout",
     "output_type": "stream",
     "text": [
      "\n",
      "--- Label Encoding Complete ---\n",
      "Unique original labels: ['air' 'coffee' 'perfume' 'tea' 'vinegar ']\n",
      "Encoded labels (first 5): [2 2 2 2 2]\n"
     ]
    }
   ],
   "source": [
    "# Prepare the Label (Label Encoding) \n",
    "# We need to convert the text labels into numbers.\n",
    "label_encoder = LabelEncoder()\n",
    "y_encoded = label_encoder.fit_transform(y) # This learns the mapping and transforms the labels\n",
    "\n",
    "print(\"\\n--- Label Encoding Complete ---\")\n",
    "print(\"Unique original labels:\", label_encoder.classes_)\n",
    "print(\"Encoded labels (first 5):\", y_encoded[:5])\n"
   ]
  },
  {
   "cell_type": "code",
   "execution_count": 7,
   "id": "28a429b4",
   "metadata": {
    "execution": {
     "iopub.execute_input": "2025-05-11T17:32:17.325013Z",
     "iopub.status.busy": "2025-05-11T17:32:17.324510Z",
     "iopub.status.idle": "2025-05-11T17:32:17.350923Z",
     "shell.execute_reply": "2025-05-11T17:32:17.349999Z"
    },
    "papermill": {
     "duration": 0.031468,
     "end_time": "2025-05-11T17:32:17.352331",
     "exception": false,
     "start_time": "2025-05-11T17:32:17.320863",
     "status": "completed"
    },
    "tags": []
   },
   "outputs": [
    {
     "name": "stdout",
     "output_type": "stream",
     "text": [
      "\n",
      "--- Feature Scaling Complete ---\n",
      "Scaled Features (first 5 rows):\n",
      "[[-0.64224301 -1.10846904  0.43079302  0.78159796  0.47789473 -0.46598971]\n",
      " [-0.64918504 -1.10846904  0.49264214  0.91050207  0.53281451  0.34979545]\n",
      " [-0.62835896 -1.10846904  0.66051831  1.1539876   0.82310476  4.59667701]\n",
      " [-0.52422857 -1.10846904  0.75770978  1.21843966  0.87017886  2.12532785]\n",
      " [-0.45480831 -1.10846904  0.70469625  1.18263296  0.82310476  0.99762484]]\n"
     ]
    }
   ],
   "source": [
    "# Prepare the Features (Scaling) ---\n",
    "# Scale the sensor readings so they are in a similar range.\n",
    "scaler = StandardScaler() # StandardScaler makes the mean 0 and std deviation 1\n",
    "X_scaled = scaler.fit_transform(X) # This learns the scaling parameters and applies the scaling\n",
    "\n",
    "print(\"\\n--- Feature Scaling Complete ---\")\n",
    "print(\"Scaled Features (first 5 rows):\")\n",
    "print(X_scaled[:5])\n"
   ]
  },
  {
   "cell_type": "code",
   "execution_count": 8,
   "id": "21748760",
   "metadata": {
    "execution": {
     "iopub.execute_input": "2025-05-11T17:32:17.360149Z",
     "iopub.status.busy": "2025-05-11T17:32:17.359530Z",
     "iopub.status.idle": "2025-05-11T17:32:17.368089Z",
     "shell.execute_reply": "2025-05-11T17:32:17.367181Z"
    },
    "papermill": {
     "duration": 0.013605,
     "end_time": "2025-05-11T17:32:17.369282",
     "exception": false,
     "start_time": "2025-05-11T17:32:17.355677",
     "status": "completed"
    },
    "tags": []
   },
   "outputs": [
    {
     "name": "stdout",
     "output_type": "stream",
     "text": [
      "\n",
      "--- Data Splitting Complete ---\n",
      "Training data shape (X_train): (1551, 6)\n",
      "Testing data shape (X_test): (388, 6)\n",
      "Training labels shape (y_train_encoded): (1551,)\n",
      "Testing labels shape (y_test_encoded): (388,)\n"
     ]
    }
   ],
   "source": [
    "# Split the Data \n",
    "# Split the data into training and testing sets.\n",
    "# We'll use 80% for training and 20% for testing.\n",
    "# random_state ensures the split is the same every time you run the code.\n",
    "X_train, X_test, y_train_encoded, y_test_encoded = train_test_split(\n",
    "    X_scaled, y_encoded, test_size=0.2, random_state=42, stratify=y_encoded # stratify ensures train/test have proportional representation of labels\n",
    ")\n",
    "\n",
    "print(\"\\n--- Data Splitting Complete ---\")\n",
    "print(f\"Training data shape (X_train): {X_train.shape}\")\n",
    "print(f\"Testing data shape (X_test): {X_test.shape}\")\n",
    "print(f\"Training labels shape (y_train_encoded): {y_train_encoded.shape}\")\n",
    "print(f\"Testing labels shape (y_test_encoded): {y_test_encoded.shape}\")\n",
    "\n",
    "# We now have our data ready for training:\n",
    "# X_train: Scaled sensor readings for training\n",
    "# y_train_encoded: Numerical labels for training\n",
    "# X_test: Scaled sensor readings for testing\n",
    "# y_test_encoded: Numerical labels for testing\n"
   ]
  },
  {
   "cell_type": "code",
   "execution_count": 9,
   "id": "eadcf035",
   "metadata": {
    "execution": {
     "iopub.execute_input": "2025-05-11T17:32:17.376634Z",
     "iopub.status.busy": "2025-05-11T17:32:17.376358Z",
     "iopub.status.idle": "2025-05-11T17:32:17.380375Z",
     "shell.execute_reply": "2025-05-11T17:32:17.379786Z"
    },
    "papermill": {
     "duration": 0.009102,
     "end_time": "2025-05-11T17:32:17.381616",
     "exception": false,
     "start_time": "2025-05-11T17:32:17.372514",
     "status": "completed"
    },
    "tags": []
   },
   "outputs": [],
   "source": [
    "# # Checking the best value of k\n",
    "# # Range of k values to try\n",
    "# k_range = range(1, 21)  # Trying k = 1 to 20\n",
    "# cv_scores = []          # List to store cross-validation scores\n",
    "\n",
    "# # Loop through each value of k\n",
    "# for k in k_range:\n",
    "#     knn = KNeighborsClassifier(n_neighbors=k)\n",
    "#     # Perform 5-fold cross-validation\n",
    "#     scores = cross_val_score(knn, X_train, y_train_encoded, cv=5, scoring='accuracy')\n",
    "#     cv_scores.append(scores.mean())  # Average accuracy for each k\n",
    "\n",
    "# # Find the best k\n",
    "# best_k = k_range[cv_scores.index(max(cv_scores))]\n",
    "# print(f\"Best k value is: {best_k}\")\n",
    "# print(f\"Cross-validated accuracy: {max(cv_scores):.4f}\")\n",
    "\n",
    "# # Plotting k vs accuracy\n",
    "# plt.plot(k_range, cv_scores, marker='o')\n",
    "# plt.xlabel('k value')\n",
    "# plt.ylabel('Cross-Validated Accuracy')\n",
    "# plt.title('KNN: Choosing the best k')\n",
    "# plt.grid(True)\n",
    "# plt.show()\n"
   ]
  },
  {
   "cell_type": "code",
   "execution_count": 10,
   "id": "b908630d",
   "metadata": {
    "execution": {
     "iopub.execute_input": "2025-05-11T17:32:17.388836Z",
     "iopub.status.busy": "2025-05-11T17:32:17.388567Z",
     "iopub.status.idle": "2025-05-11T17:32:17.418404Z",
     "shell.execute_reply": "2025-05-11T17:32:17.417333Z"
    },
    "papermill": {
     "duration": 0.035024,
     "end_time": "2025-05-11T17:32:17.419957",
     "exception": false,
     "start_time": "2025-05-11T17:32:17.384933",
     "status": "completed"
    },
    "tags": []
   },
   "outputs": [
    {
     "name": "stdout",
     "output_type": "stream",
     "text": [
      "--- Training K-Nearest Neighbors (KNN) Model ---\n",
      "KNN Model training complete.\n",
      "\n",
      "--- Evaluating KNN Model ---\n",
      "KNN Model Accuracy on the test set: 0.9845\n"
     ]
    }
   ],
   "source": [
    "# KNN Model\n",
    "\n",
    "print(\"--- Training K-Nearest Neighbors (KNN) Model ---\")\n",
    "\n",
    "# Create a KNN classifier instance\n",
    "# n_neighbors is the 'k' value. Starting with 5.\n",
    "knn_model = KNeighborsClassifier(n_neighbors=7)\n",
    "\n",
    "# Train the model using the training data\n",
    "knn_model.fit(X_train, y_train_encoded)\n",
    "\n",
    "print(\"KNN Model training complete.\")\n",
    "\n",
    "#  Evaluate the KNN Model \n",
    "print(\"\\n--- Evaluating KNN Model ---\")\n",
    "\n",
    "# Predict on the test data\n",
    "y_pred_encoded_knn = knn_model.predict(X_test)\n",
    "\n",
    "# Calculate Accuracy\n",
    "accuracy_knn = accuracy_score(y_test_encoded, y_pred_encoded_knn)\n",
    "print(f\"KNN Model Accuracy on the test set: {accuracy_knn:.4f}\")\n",
    "\n",
    "\n",
    "\n"
   ]
  },
  {
   "cell_type": "code",
   "execution_count": 11,
   "id": "6e97a755",
   "metadata": {
    "execution": {
     "iopub.execute_input": "2025-05-11T17:32:17.428018Z",
     "iopub.status.busy": "2025-05-11T17:32:17.427678Z",
     "iopub.status.idle": "2025-05-11T17:32:17.447364Z",
     "shell.execute_reply": "2025-05-11T17:32:17.446222Z"
    },
    "papermill": {
     "duration": 0.025204,
     "end_time": "2025-05-11T17:32:17.448812",
     "exception": false,
     "start_time": "2025-05-11T17:32:17.423608",
     "status": "completed"
    },
    "tags": []
   },
   "outputs": [
    {
     "name": "stdout",
     "output_type": "stream",
     "text": [
      "\n",
      "KNN Classification Report:\n",
      "              precision    recall  f1-score   support\n",
      "\n",
      "         air       1.00      1.00      1.00        74\n",
      "      coffee       1.00      1.00      1.00        22\n",
      "     perfume       1.00      0.97      0.98        98\n",
      "         tea       0.96      0.99      0.97        94\n",
      "    vinegar        0.98      0.98      0.98       100\n",
      "\n",
      "    accuracy                           0.98       388\n",
      "   macro avg       0.99      0.99      0.99       388\n",
      "weighted avg       0.98      0.98      0.98       388\n",
      "\n",
      "\n",
      "KNN Classification Report (using encoded labels):\n",
      "              precision    recall  f1-score   support\n",
      "\n",
      "           0       1.00      1.00      1.00        74\n",
      "           1       1.00      1.00      1.00        22\n",
      "           2       1.00      0.97      0.98        98\n",
      "           3       0.96      0.99      0.97        94\n",
      "           4       0.98      0.98      0.98       100\n",
      "\n",
      "    accuracy                           0.98       388\n",
      "   macro avg       0.99      0.99      0.99       388\n",
      "weighted avg       0.98      0.98      0.98       388\n",
      "\n",
      "\n",
      "--- KNN Model Evaluation Complete ---\n"
     ]
    }
   ],
   "source": [
    "# Print Classification Report \n",
    "# This gives more detailed metrics (Precision, Recall, F1-score) for each class\n",
    "# To get meaningful class names in the report, you would need the original label_encoder\n",
    "# and its .classes_ attribute from the data prep step.\n",
    "try:\n",
    "    print(\"\\nKNN Classification Report:\")\n",
    "    print(classification_report(y_test_encoded, y_pred_encoded_knn, target_names=label_encoder.classes_))\n",
    "except NameError:\n",
    "    print(\"\\nCannot print classification report with class names: label_encoder not available.\")\n",
    "    print(classification_report(y_test_encoded, y_pred_encoded_knn))\n",
    "\n",
    "# If label_encoder is not available, you can run the classification report without target_names\n",
    "print(\"\\nKNN Classification Report (using encoded labels):\")\n",
    "print(classification_report(y_test_encoded, y_pred_encoded_knn))\n",
    "\n",
    "\n",
    "print(\"\\n--- KNN Model Evaluation Complete ---\")\n",
    "# The accuracy score (and classification report) on the test set\n",
    "# tells you how well the model is likely to perform on new, unseen data.\n"
   ]
  },
  {
   "cell_type": "code",
   "execution_count": 12,
   "id": "bed6da38",
   "metadata": {
    "execution": {
     "iopub.execute_input": "2025-05-11T17:32:17.457384Z",
     "iopub.status.busy": "2025-05-11T17:32:17.456849Z",
     "iopub.status.idle": "2025-05-11T17:32:17.516450Z",
     "shell.execute_reply": "2025-05-11T17:32:17.515406Z"
    },
    "papermill": {
     "duration": 0.065499,
     "end_time": "2025-05-11T17:32:17.517952",
     "exception": false,
     "start_time": "2025-05-11T17:32:17.452453",
     "status": "completed"
    },
    "tags": []
   },
   "outputs": [
    {
     "name": "stdout",
     "output_type": "stream",
     "text": [
      "\n",
      "--- Training Decision Tree Model ---\n",
      "Decision Tree Model training complete.\n",
      "\n",
      "--- Evaluating Decision Tree Model ---\n",
      "Decision Tree Model Accuracy on the test set: 0.9665\n",
      "\n",
      "Decision Tree Classification Report (using encoded labels):\n",
      "              precision    recall  f1-score   support\n",
      "\n",
      "           0       1.00      1.00      1.00        74\n",
      "           1       1.00      1.00      1.00        22\n",
      "           2       0.98      0.94      0.96        98\n",
      "           3       0.94      0.96      0.95        94\n",
      "           4       0.95      0.97      0.96       100\n",
      "\n",
      "    accuracy                           0.97       388\n",
      "   macro avg       0.97      0.97      0.97       388\n",
      "weighted avg       0.97      0.97      0.97       388\n",
      "\n",
      "\n",
      "--- Decision Tree Model Evaluation Complete ---\n"
     ]
    }
   ],
   "source": [
    "# Decision Tree Model \n",
    "\n",
    "# Make sure you have run the previous data preparation code first\n",
    "# This assumes X_train, X_test, y_train_encoded, y_test_encoded are available\n",
    "\n",
    "from sklearn.tree import DecisionTreeClassifier\n",
    "from sklearn.metrics import accuracy_score, classification_report\n",
    "\n",
    "print(\"\\n--- Training Decision Tree Model ---\")\n",
    "\n",
    "# Create a Decision Tree classifier instance\n",
    "# max_depth limits how deep the tree can grow. Helps prevent overfitting.\n",
    "# Starting with max_depth=5 \n",
    "dt_model = DecisionTreeClassifier(max_depth=5, random_state=42) # random_state for reproducibility\n",
    "\n",
    "# Train the model using the training data\n",
    "dt_model.fit(X_train, y_train_encoded)\n",
    "\n",
    "print(\"Decision Tree Model training complete.\")\n",
    "\n",
    "# Evaluate the Decision Tree Model\n",
    "print(\"\\n--- Evaluating Decision Tree Model ---\")\n",
    "\n",
    "# Predict on the test data\n",
    "y_pred_encoded_dt = dt_model.predict(X_test)\n",
    "\n",
    "# Calculate Accuracy\n",
    "accuracy_dt = accuracy_score(y_test_encoded, y_pred_encoded_dt)\n",
    "print(f\"Decision Tree Model Accuracy on the test set: {accuracy_dt:.4f}\")\n",
    "\n",
    "# Optional: Print Classification Report \n",
    "# Same note as with KNN regarding label_encoder\n",
    "# try:\n",
    "#     print(\"\\nDecision Tree Classification Report:\")\n",
    "#     print(classification_report(y_test_encoded, y_pred_encoded_dt, target_names=label_encoder.classes_))\n",
    "# except NameError:\n",
    "#     print(\"\\nCannot print classification report with class names: label_encoder not available.\")\n",
    "#     print(classification_report(y_test_encoded, y_pred_encoded_dt))\n",
    "\n",
    "print(\"\\nDecision Tree Classification Report (using encoded labels):\")\n",
    "print(classification_report(y_test_encoded, y_pred_encoded_dt))\n",
    "\n",
    "\n",
    "print(\"\\n--- Decision Tree Model Evaluation Complete ---\")\n"
   ]
  },
  {
   "cell_type": "code",
   "execution_count": 13,
   "id": "4292db1d",
   "metadata": {
    "execution": {
     "iopub.execute_input": "2025-05-11T17:32:17.525918Z",
     "iopub.status.busy": "2025-05-11T17:32:17.525624Z",
     "iopub.status.idle": "2025-05-11T17:32:18.454380Z",
     "shell.execute_reply": "2025-05-11T17:32:18.453507Z"
    },
    "papermill": {
     "duration": 0.93674,
     "end_time": "2025-05-11T17:32:18.458244",
     "exception": false,
     "start_time": "2025-05-11T17:32:17.521504",
     "status": "completed"
    },
    "tags": []
   },
   "outputs": [
    {
     "name": "stdout",
     "output_type": "stream",
     "text": [
      "\n",
      "--- Detailed Evaluation on Test Set (KNN Model) ---\n",
      "\n",
      "KNN Classification Report on Test Set:\n",
      "              precision    recall  f1-score   support\n",
      "\n",
      "         air       1.00      1.00      1.00        74\n",
      "      coffee       1.00      1.00      1.00        22\n",
      "     perfume       1.00      0.97      0.98        98\n",
      "         tea       0.96      0.99      0.97        94\n",
      "    vinegar        0.98      0.98      0.98       100\n",
      "\n",
      "    accuracy                           0.98       388\n",
      "   macro avg       0.99      0.99      0.99       388\n",
      "weighted avg       0.98      0.98      0.98       388\n",
      "\n",
      "\n",
      "Generating Confusion Matrix...\n"
     ]
    },
    {
     "data": {
      "image/png": "[encoded data removed]",
      "text/plain": [
       "<Figure size 1000x800 with 2 Axes>"
      ]
     },
     "metadata": {},
     "output_type": "display_data"
    },
    {
     "name": "stdout",
     "output_type": "stream",
     "text": [
      "\n",
      "--- Detailed Evaluation Complete ---\n"
     ]
    }
   ],
   "source": [
    "# Classification Report and Confusion Matrix (KNN) \n",
    "# Assumes knn_model (trained with n_neighbors=5), X_test, y_test_encoded\n",
    "\n",
    "from sklearn.metrics import classification_report, confusion_matrix\n",
    "import seaborn as sns\n",
    "\n",
    "print(\"\\n--- Detailed Evaluation on Test Set (KNN Model) ---\")\n",
    "\n",
    "# Make predictions on the test set (if not already done)\n",
    "# y_pred_encoded_knn = knn_model.predict(X_test) # Uncomment if needed\n",
    "\n",
    "# --- Classification Report ---\n",
    "print(\"\\nKNN Classification Report on Test Set:\")\n",
    "try:\n",
    "    # Use target_names from the original label_encoder if available\n",
    "    print(classification_report(y_test_encoded, y_pred_encoded_knn, target_names=label_encoder.classes_))\n",
    "except NameError:\n",
    "    print(\"label_encoder not available. Printing report with encoded labels:\")\n",
    "    print(classification_report(y_test_encoded, y_pred_encoded_knn))\n",
    "\n",
    "# --- Confusion Matrix ---\n",
    "print(\"\\nGenerating Confusion Matrix...\")\n",
    "cm = confusion_matrix(y_test_encoded, y_pred_encoded_knn)\n",
    "\n",
    "plt.figure(figsize=(10, 8))\n",
    "sns.heatmap(cm, annot=True, fmt='d', cmap='Blues') # annot=True shows numbers, fmt='d' formats as integers\n",
    "plt.xlabel('Predicted Label (Encoded)')\n",
    "plt.ylabel('True Label (Encoded)')\n",
    "plt.title('Confusion Matrix (KNN Model on Test Set)')\n",
    "\n",
    "# If you have label_encoder, you can try adding tick labels\n",
    "try:\n",
    "    tick_labels = label_encoder.classes_\n",
    "    plt.xticks(ticks=[i + 0.5 for i in range(len(tick_labels))], labels=tick_labels, rotation=45, ha='right')\n",
    "    plt.yticks(ticks=[i + 0.5 for i in range(len(tick_labels))], labels=tick_labels, rotation=0)\n",
    "    plt.xlabel('Predicted Label')\n",
    "    plt.ylabel('True Label')\n",
    "    plt.title('Confusion Matrix (KNN Model on Test Set)')\n",
    "except NameError:\n",
    "     pass # Keep default encoded labels if label_encoder not available\n",
    "\n",
    "\n",
    "plt.show()\n",
    "\n",
    "print(\"\\n--- Detailed Evaluation Complete ---\")"
   ]
  }
 ],
 "metadata": {
  "kaggle": {
   "accelerator": "none",
   "dataSources": [
    {
     "datasetId": 7100704,
     "sourceId": 11412508,
     "sourceType": "datasetVersion"
    }
   ],
   "dockerImageVersionId": 31012,
   "isGpuEnabled": false,
   "isInternetEnabled": true,
   "language": "python",
   "sourceType": "notebook"
  },
  "kernelspec": {
   "display_name": "Python 3",
   "language": "python",
   "name": "python3"
  },
  "language_info": {
   "codemirror_mode": {
    "name": "ipython",
    "version": 3
   },
   "file_extension": ".py",
   "mimetype": "text/x-python",
   "name": "python",
   "nbconvert_exporter": "python",
   "pygments_lexer": "ipython3",
   "version": "3.11.11"
  },
  "papermill": {
   "default_parameters": {},
   "duration": 9.668343,
   "end_time": "2025-05-11T17:32:19.085477",
   "environment_variables": {},
   "exception": null,
   "input_path": "__notebook__.ipynb",
   "output_path": "__notebook__.ipynb",
   "parameters": {},
   "start_time": "2025-05-11T17:32:09.417134",
   "version": "2.6.0"
  }
 },
 "nbformat": 4,
 "nbformat_minor": 5
}
